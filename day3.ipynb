{
 "cells": [
  {
   "cell_type": "markdown",
   "metadata": {},
   "source": [
    "# Advent of Code Day 3"
   ]
  },
  {
   "cell_type": "markdown",
   "metadata": {},
   "source": [
    "## Part 1"
   ]
  },
  {
   "cell_type": "code",
   "execution_count": 60,
   "metadata": {},
   "outputs": [],
   "source": [
    "import re"
   ]
  },
  {
   "cell_type": "code",
   "execution_count": 61,
   "metadata": {},
   "outputs": [],
   "source": [
    "with open(\"./data/day3.txt\") as file:\n",
    "    data = file.read()"
   ]
  },
  {
   "cell_type": "code",
   "execution_count": 62,
   "metadata": {},
   "outputs": [
    {
     "name": "stdout",
     "output_type": "stream",
     "text": [
      "182780583\n"
     ]
    }
   ],
   "source": [
    "pattern = re.compile(r\"mul\\((\\d+),(\\d+)\\)\")\n",
    "\n",
    "total = sum(int(a)*int(b) for a, b in re.findall(pattern, data))\n",
    "\n",
    "print(total)"
   ]
  },
  {
   "cell_type": "markdown",
   "metadata": {},
   "source": [
    "## Part 2"
   ]
  },
  {
   "cell_type": "code",
   "execution_count": 64,
   "metadata": {},
   "outputs": [
    {
     "name": "stdout",
     "output_type": "stream",
     "text": [
      "90772405\n"
     ]
    }
   ],
   "source": [
    "instructions = re.compile(r\"don't\\(\\).*?do\\(\\)\")\n",
    "\n",
    "total = sum(int(a)*int(b) for a, b in re.findall(pattern, re.sub(r\"don't\\(\\).*?(?:$|do\\(\\))\", \"\", data, flags=re.DOTALL)))\n",
    "\n",
    "print(total) "
   ]
  },
  {
   "cell_type": "code",
   "execution_count": 78,
   "metadata": {},
   "outputs": [
    {
     "name": "stdout",
     "output_type": "stream",
     "text": [
      "(0.01902426240357297, 0.009512131201786485, 0.0023780328004466213) (0.026904369905277472, 0.013452184952638736, 0.003363046238159684) (0.03295098905951079, 0.016475494529755396, 0.004118873632438849) (0.03804852480714594, 0.01902426240357297, 0.004756065600893243) (0.0425395439561827, 0.02126977197809135, 0.005317442994522838) (0.04659973562156764, 0.02329986781078382, 0.005824966952695955) (0.05033346719628998, 0.02516673359814499, 0.006291683399536247) (0.053808739810554944, 0.026904369905277472, 0.006726092476319368) (0.057072787210718914, 0.028536393605359457, 0.007134098401339864) (0.06016, 0.03008, 0.00752)\n"
     ]
    }
   ],
   "source": [
    "import numpy as np\n",
    "T = np.arange(10,110,10)\n",
    "lambdaD = 2.35e-6*np.sqrt(T)\n",
    "L = 2560*lambdaD\n",
    "print(*zip(L,L/2,L/8))"
   ]
  },
  {
   "cell_type": "code",
   "execution_count": null,
   "metadata": {},
   "outputs": [],
   "source": []
  }
 ],
 "metadata": {
  "kernelspec": {
   "display_name": "Python 3",
   "language": "python",
   "name": "python3"
  },
  "language_info": {
   "codemirror_mode": {
    "name": "ipython",
    "version": 3
   },
   "file_extension": ".py",
   "mimetype": "text/x-python",
   "name": "python",
   "nbconvert_exporter": "python",
   "pygments_lexer": "ipython3",
   "version": "3.9.6"
  }
 },
 "nbformat": 4,
 "nbformat_minor": 2
}
