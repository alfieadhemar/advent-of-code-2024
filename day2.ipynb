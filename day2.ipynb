{
 "cells": [
  {
   "cell_type": "markdown",
   "metadata": {},
   "source": [
    "# Advent of Code Day 2"
   ]
  },
  {
   "cell_type": "code",
   "execution_count": 1,
   "metadata": {},
   "outputs": [],
   "source": [
    "import numpy as np"
   ]
  },
  {
   "cell_type": "code",
   "execution_count": 39,
   "metadata": {},
   "outputs": [],
   "source": [
    "def isSafe(line):\n",
    "    diff = [a - b for a, b in zip(line, line[1:])]\n",
    "    isMonotonic = all(i > 0 for i in diff) or all(i < 0 for i in diff)\n",
    "    inRange = all(0 < abs(i) <= 3 for i in diff)\n",
    "    if isMonotonic and inRange:\n",
    "        return True\n",
    "    return False"
   ]
  },
  {
   "cell_type": "markdown",
   "metadata": {},
   "source": [
    "## Part 1"
   ]
  },
  {
   "cell_type": "code",
   "execution_count": 42,
   "metadata": {},
   "outputs": [
    {
     "name": "stdout",
     "output_type": "stream",
     "text": [
      "321\n"
     ]
    }
   ],
   "source": [
    "path = \"./data/day2.txt\"\n",
    "\n",
    "with open(path) as file:\n",
    "    lines = file.readlines()\n",
    "\n",
    "    for index, line in enumerate(lines):\n",
    "        lines[index] = [int(value) for value in line.split()]\n",
    "\n",
    "count = 0\n",
    "\n",
    "for line in lines:\n",
    "    if isSafe(line):\n",
    "        count += 1\n",
    "\n",
    "print(count)"
   ]
  },
  {
   "cell_type": "markdown",
   "metadata": {},
   "source": [
    "# Part 2"
   ]
  },
  {
   "cell_type": "code",
   "execution_count": 45,
   "metadata": {},
   "outputs": [
    {
     "name": "stdout",
     "output_type": "stream",
     "text": [
      "386\n"
     ]
    }
   ],
   "source": [
    "fixedCount = 0\n",
    "\n",
    "for line in lines:\n",
    "    if isSafe(line):\n",
    "        fixedCount += 1\n",
    "    else:\n",
    "        for i in range(len(line)):\n",
    "            allowed = line[:i] + line[i+1:]\n",
    "            if isSafe(allowed):\n",
    "                fixedCount += 1\n",
    "                break\n",
    "\n",
    "print(fixedCount)"
   ]
  },
  {
   "cell_type": "code",
   "execution_count": null,
   "metadata": {},
   "outputs": [],
   "source": []
  }
 ],
 "metadata": {
  "kernelspec": {
   "display_name": "Python 3",
   "language": "python",
   "name": "python3"
  },
  "language_info": {
   "codemirror_mode": {
    "name": "ipython",
    "version": 3
   },
   "file_extension": ".py",
   "mimetype": "text/x-python",
   "name": "python",
   "nbconvert_exporter": "python",
   "pygments_lexer": "ipython3",
   "version": "3.9.6"
  }
 },
 "nbformat": 4,
 "nbformat_minor": 2
}
