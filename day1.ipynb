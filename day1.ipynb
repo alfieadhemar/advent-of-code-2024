{
 "cells": [
  {
   "cell_type": "markdown",
   "metadata": {},
   "source": [
    "# Advent of Code day 1"
   ]
  },
  {
   "cell_type": "code",
   "execution_count": 42,
   "metadata": {},
   "outputs": [],
   "source": [
    "import numpy as np"
   ]
  },
  {
   "cell_type": "markdown",
   "metadata": {},
   "source": [
    "## Part 1"
   ]
  },
  {
   "cell_type": "code",
   "execution_count": null,
   "metadata": {},
   "outputs": [
    {
     "name": "stdout",
     "output_type": "stream",
     "text": [
      "1341714\n"
     ]
    }
   ],
   "source": [
    "# Load data\n",
    "path = \"./data/day1.txt\"\n",
    "\n",
    "lines = np.loadtxt(path,int)\n",
    "\n",
    "lines = np.sort(lines,0)\n",
    "\n",
    "dist = 0\n",
    "\n",
    "for line in lines:\n",
    "    dist += abs(line[1] - line[0])"
   ]
  },
  {
   "cell_type": "markdown",
   "metadata": {},
   "source": [
    "**Part 1 completed**"
   ]
  },
  {
   "cell_type": "markdown",
   "metadata": {},
   "source": [
    "## Part 2"
   ]
  },
  {
   "cell_type": "code",
   "execution_count": 76,
   "metadata": {},
   "outputs": [
    {
     "name": "stdout",
     "output_type": "stream",
     "text": [
      "27384707\n"
     ]
    }
   ],
   "source": [
    "left = lines[:,0]\n",
    "right = lines[:,1]\n",
    "\n",
    "total = []\n",
    "\n",
    "for index, value in enumerate(left):\n",
    "    numMatches = np.where(right == value)\n",
    "\n",
    "    if len(right[numMatches]) != 0:\n",
    "        total.append(len(right[numMatches])*value)\n",
    "\n",
    "print(sum(total))"
   ]
  },
  {
   "cell_type": "code",
   "execution_count": null,
   "metadata": {},
   "outputs": [],
   "source": []
  }
 ],
 "metadata": {
  "kernelspec": {
   "display_name": "Python 3",
   "language": "python",
   "name": "python3"
  },
  "language_info": {
   "codemirror_mode": {
    "name": "ipython",
    "version": 3
   },
   "file_extension": ".py",
   "mimetype": "text/x-python",
   "name": "python",
   "nbconvert_exporter": "python",
   "pygments_lexer": "ipython3",
   "version": "3.9.6"
  }
 },
 "nbformat": 4,
 "nbformat_minor": 2
}
